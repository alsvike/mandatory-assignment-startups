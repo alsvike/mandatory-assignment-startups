{
 "cells": [
  {
   "cell_type": "markdown",
   "id": "eca082f6",
   "metadata": {},
   "source": [
    "<h1>Mandatory Assignment - Startups</h1>"
   ]
  },
  {
   "cell_type": "markdown",
   "id": "cd05c9b2",
   "metadata": {},
   "source": [
    "<h2> Step 1: Look at the big picture and frame the problem </h2>"
   ]
  },
  {
   "cell_type": "markdown",
   "id": "e62b2ee1",
   "metadata": {},
   "source": [
    "<h3> 1. Define the objective in business terms.</h3>"
   ]
  },
  {
   "cell_type": "markdown",
   "id": "0b11b59d",
   "metadata": {},
   "source": [
    "<h5> Our selution is going to serve out client (JPM), of knowing what buissness are considered a high or low risk to invest in. this going to be done through liner regression models, that makes for data that is presentable and easy to understand, with relevant loss and profits.  </h5>"
   ]
  },
  {
   "cell_type": "markdown",
   "id": "da34f2a3",
   "metadata": {},
   "source": [
    "<h3> 2. How shall your solution be used?</h3>"
   ]
  },
  {
   "cell_type": "markdown",
   "id": "d04057fd",
   "metadata": {},
   "source": [
    "<h5> User stories: <ol>\n",
    "                        <li> A user, would like to use JPM to consult about investing, and have the data presented in a comprehensive way  </li>\n",
    "                         </h5>"
   ]
  },
  {
   "cell_type": "markdown",
   "id": "9a0a08b1",
   "metadata": {},
   "source": [
    "<h3>3. What are the current solutions/workarounds (if any)?</h3>"
   ]
  },
  {
   "cell_type": "markdown",
   "id": "79f2ca21",
   "metadata": {},
   "source": [
    "<h5>No existing models or approaches are known for predicting startup profits at JPM-Finance. The assignment assumes this is the first attempt to build a data-driven solution, so there is no baseline to compare against</h5>"
   ]
  },
  {
   "cell_type": "markdown",
   "id": "74a42c51",
   "metadata": {},
   "source": [
    "<h3>4. How should you frame this problem (supervised/unsupervised, online/offline, etc.)?</h3>"
   ]
  },
  {
   "cell_type": "markdown",
   "id": "32947639",
   "metadata": {},
   "source": [
    "<h5>This is a supervised learning problem because the dataset includes labeled outcomes (profit). The task is regression since the target variable is continuous. It should be approached as offline learning, as the dataset is small and static.</h5>"
   ]
  },
  {
   "cell_type": "markdown",
   "id": "7966e08f",
   "metadata": {},
   "source": [
    "<h3>5. How should performance be measured?</h3>"
   ]
  },
  {
   "cell_type": "markdown",
   "id": "af4164ab",
   "metadata": {},
   "source": [
    "<h5>RMSE fits the business objective because it shows how much predicted profits differ from actual profits in monetary terms. This allows JPM-Finance to judge the size of errors and the reliability of forecasts when advising clients. R² supports this by showing how much of the profit variation the model can explain.</h5>"
   ]
  },
  {
   "cell_type": "markdown",
   "id": "8327ff09",
   "metadata": {},
   "source": [
    "<h3>6. Is the performance measure aligned with the business objective?</h3>"
   ]
  },
  {
   "cell_type": "markdown",
   "id": "4e959527",
   "metadata": {},
   "source": [
    "<h5>Using RMSE (and possibly MAE) aligns well with the business goal, because you measure error in the same units as profit (monetary). If RMSE is low, your predictions are close to real profits — useful for advising clients. R² complements this by showing how much variation in profit your model explains (a higher R² means closer alignment with real-world profit behavior).</h5>"
   ]
  },
  {
   "cell_type": "markdown",
   "id": "94e09493",
   "metadata": {},
   "source": [
    "<h3>7. What would be the minimum performance needed to reach the business objective?</h3>"
   ]
  },
  {
   "cell_type": "markdown",
   "id": "ae8664c7",
   "metadata": {},
   "source": [
    "<h5>There is no defined minimum performance level for this task. Since no baseline or existing system is available, it is not possible to set a concrete threshold for acceptable accuracy.</h5>"
   ]
  },
  {
   "cell_type": "markdown",
   "id": "2e51a17e",
   "metadata": {},
   "source": [
    "<h3>8. What are comparable problems? Can you reuse experience?</h3>"
   ]
  },
  {
   "cell_type": "markdown",
   "id": "09710239",
   "metadata": {},
   "source": [
    "<h5>This task is comparable to other regression problems such as housing price prediction. The experience from chapter 2 can be reused, including data preparation, correlation analysis, and applying linear regression. These methods are directly applicable to predicting startup profits.</h5>"
   ]
  },
  {
   "cell_type": "markdown",
   "id": "70abec2b",
   "metadata": {},
   "source": [
    "<h3>9. Is human expertise available?</h3>"
   ]
  },
  {
   "cell_type": "markdown",
   "id": "65b15718",
   "metadata": {},
   "source": [
    "<h5>No human expertise is available for this task, so domain-specific input cannot be used. In real cases, consulting experts would be recommended to validate assumptions and results.</h5>"
   ]
  },
  {
   "cell_type": "markdown",
   "id": "3e37db2b",
   "metadata": {},
   "source": [
    "<h3>10. How would you solve the problem manually?</h3>"
   ]
  },
  {
   "cell_type": "markdown",
   "id": "84ff0f64",
   "metadata": {},
   "source": [
    "<h5>N/A, we have no manual method to document for this assignment.\n",
    "If you had to solve it manually, you would inspect the data, compute simple correlations, then fit a linear model by hand using least squares (compute means, slopes, and intercept) and use that formula to make profit estimates.</h5>"
   ]
  },
  {
   "cell_type": "markdown",
   "id": "5539cfae",
   "metadata": {},
   "source": [
    "<h3>11. List the assumptions you (or others have made so far)</h3>"
   ]
  },
  {
   "cell_type": "markdown",
   "id": "4daa6102",
   "metadata": {},
   "source": [
    "- Data entries with 0.0 values are acceptable and kept, since some startups may have no administration costs.  \n",
    "- The *State* feature is considered unimportant and can be dropped without reducing model performance.  \n",
    "- OneHotEncoding for *State* is not needed in the initial analysis.  \n",
    "- Features should not be combined if correlations are below ±0.20, as this may distort the model.  \n",
    "- Linear regression is assumed to be a suitable first approach for predicting profit.  "
   ]
  },
  {
   "cell_type": "markdown",
   "id": "a8669d13",
   "metadata": {},
   "source": [
    "<h3>12. Verify assumptions if possible</h3>"
   ]
  },
  {
   "cell_type": "markdown",
   "id": "0ecee4e8",
   "metadata": {},
   "source": [
    "<h5>N/A because you have got no time for this. Otherwise, you should indeed do this. Nothing to be documented</h5>"
   ]
  }
 ],
 "metadata": {
  "language_info": {
   "name": "python"
  }
 },
 "nbformat": 4,
 "nbformat_minor": 5
}
