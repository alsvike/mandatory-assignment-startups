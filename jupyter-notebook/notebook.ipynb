{
 "cells": [
  {
   "cell_type": "markdown",
   "id": "cd05c9b2",
   "metadata": {},
   "source": [
    "<h1> Step 1: Look at the big picture and frame the problem </1>"
   ]
  },
  {
   "cell_type": "markdown",
   "id": "e62b2ee1",
   "metadata": {},
   "source": [
    "<h3> 1. Define the objective in business terms. Action: Analyze what business purpose your solution is going to serve. To be documented – e.g. in your notebook. </3>"
   ]
  },
  {
   "cell_type": "markdown",
   "id": "0b11b59d",
   "metadata": {},
   "source": [
    "<h5> Our selution is going to serve out client (JPM), of knowing what buissness are considered a high or low risk to invest in. this going to be done through liner regression models, that makes for data that is presentable and easy to understand, with relevant loss and profits.  </h5>"
   ]
  },
  {
   "cell_type": "markdown",
   "id": "da34f2a3",
   "metadata": {},
   "source": [
    "<h3> 2. How shall your solution be used? Action: That defining one or more user stories for the solution. To be documented – e.g. in your notebook.</h3>"
   ]
  },
  {
   "cell_type": "markdown",
   "id": "d04057fd",
   "metadata": {},
   "source": [
    "<h5> User stories: <ol>\n",
    "                        <li> A user, who recently have retired from the workforce, and now wish to invest. However, they know not what to invest in, the turn to JPM for a that provide an easy to understand data of where to invest. </li>\n",
    "                         </h5>"
   ]
  },
  {
   "cell_type": "markdown",
   "id": "9a0a08b1",
   "metadata": {},
   "source": []
  }
 ],
 "metadata": {
  "language_info": {
   "name": "python"
  }
 },
 "nbformat": 4,
 "nbformat_minor": 5
}
