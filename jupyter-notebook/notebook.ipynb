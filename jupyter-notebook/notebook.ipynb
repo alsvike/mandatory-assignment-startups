{
 "cells": [
  {
   "cell_type": "markdown",
   "id": "cd05c9b2",
   "metadata": {},
   "source": [
    "<h1> Step 1: Look at the big picture and frame the problem </1>"
   ]
  },
  {
   "cell_type": "markdown",
   "id": "e62b2ee1",
   "metadata": {},
   "source": [
    "<h3> 1. Define the objective in business terms.</h3>"
   ]
  },
  {
   "cell_type": "markdown",
   "id": "0b11b59d",
   "metadata": {},
   "source": [
    "<h5> Our selution is going to serve out client (JPM), of knowing what buissness are considered a high or low risk to invest in. this going to be done through liner regression models, that makes for data that is presentable and easy to understand, with relevant loss and profits.  </h5>"
   ]
  },
  {
   "cell_type": "markdown",
   "id": "da34f2a3",
   "metadata": {},
   "source": [
    "<h3> 2. How shall your solution be used?</h3>"
   ]
  },
  {
   "cell_type": "markdown",
   "id": "d04057fd",
   "metadata": {},
   "source": [
    "<h5> User stories: <ol>\n",
    "                        <li> A user, who recently have retired from the workforce, and now wish to invest. However, they know not what to invest in, the turn to JPM for a that provide an easy to understand data of where to invest. </li>\n",
    "                         </h5>"
   ]
  },
  {
   "cell_type": "markdown",
   "id": "9a0a08b1",
   "metadata": {},
   "source": [
    "<h3>3. What are the current solutions/workarounds (if any)?</h3>"
   ]
  },
  {
   "cell_type": "markdown",
   "id": "79f2ca21",
   "metadata": {},
   "source": [
    "<h5>No existing models or approaches are known for predicting startup profits at JPM-Finance. The assignment assumes this is the first attempt to build a data-driven solution, so there is no baseline to compare against</h5>"
   ]
  },
  {
   "cell_type": "markdown",
   "id": "74a42c51",
   "metadata": {},
   "source": [
    "<h3>4. How should you frame this problem (supervised/unsupervised, online/offline, etc.)?</h3>"
   ]
  },
  {
   "cell_type": "markdown",
   "id": "32947639",
   "metadata": {},
   "source": [
    "<h5>This is a supervised learning problem because the dataset includes labeled outcomes (profit). The task is regression since the target variable is continuous. It should be approached as offline learning, as the dataset is small and static.</h5>"
   ]
  },
  {
   "cell_type": "markdown",
   "id": "7966e08f",
   "metadata": {},
   "source": [
    "<h3>5. How should performance be measured?</h3>"
   ]
  },
  {
   "cell_type": "markdown",
   "id": "af4164ab",
   "metadata": {},
   "source": [
    "<h5>RMSE fits the business objective because it shows how much predicted profits differ from actual profits in monetary terms. This allows JPM-Finance to judge the size of errors and the reliability of forecasts when advising clients. R² supports this by showing how much of the profit variation the model can explain.</h5>"
   ]
  },
  {
   "cell_type": "markdown",
   "id": "8327ff09",
   "metadata": {},
   "source": [
    "<h3>6. Is the performance measure aligned with the business objective?</h3>"
   ]
  },
  {
   "cell_type": "markdown",
   "id": "4e959527",
   "metadata": {},
   "source": [
    "<h5>Using RMSE (and possibly MAE) aligns well with the business goal, because you measure error in the same units as profit (monetary). If RMSE is low, your predictions are close to real profits — useful for advising clients. R² complements this by showing how much variation in profit your model explains (a higher R² means closer alignment with real-world profit behavior).</h5>"
   ]
  }
 ],
 "metadata": {
  "language_info": {
   "name": "python"
  }
 },
 "nbformat": 4,
 "nbformat_minor": 5
}
